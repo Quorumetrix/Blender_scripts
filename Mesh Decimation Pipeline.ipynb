{
 "cells": [
  {
   "cell_type": "markdown",
   "metadata": {},
   "source": [
    "# Mesh Decimation Pipeline"
   ]
  },
  {
   "cell_type": "code",
   "execution_count": 1,
   "metadata": {},
   "outputs": [
    {
     "name": "stderr",
     "output_type": "stream",
     "text": [
      "C:\\Users\\tyler\\AppData\\Roaming\\Python\\Python310\\site-packages\\tqdm\\auto.py:21: TqdmWarning: IProgress not found. Please update jupyter and ipywidgets. See https://ipywidgets.readthedocs.io/en/stable/user_install.html\n",
      "  from .autonotebook import tqdm as notebook_tqdm\n",
      "c:\\Users\\tyler\\Anaconda3\\envs\\blender341\\lib\\site-packages\\numpy\\_distributor_init.py:30: UserWarning: loaded more than 1 DLL from .libs:\n",
      "c:\\Users\\tyler\\Anaconda3\\envs\\blender341\\lib\\site-packages\\numpy\\.libs\\libopenblas.FB5AE2TYXYH2IJRDKGDGQ3XBKLKTF43H.gfortran-win_amd64.dll\n",
      "c:\\Users\\tyler\\Anaconda3\\envs\\blender341\\lib\\site-packages\\numpy\\.libs\\libopenblas64__v0.3.21-gcc_10_3_0.dll\n",
      "  warnings.warn(\"loaded more than 1 DLL from .libs:\"\n"
     ]
    }
   ],
   "source": [
    "import glob\n",
    "import os\n",
    "from tqdm import tqdm\n",
    "\n",
    "from tqdm.contrib.concurrent import thread_map\n",
    "from multiprocessing import Pool\n",
    "from concurrent.futures import ThreadPoolExecutor\n",
    "\n",
    "import pyvista as pv"
   ]
  },
  {
   "cell_type": "code",
   "execution_count": 2,
   "metadata": {},
   "outputs": [],
   "source": [
    "base_dir = 'Z://Open_data_sets/MICrONS/cubic_mm/'\n",
    "obj_path = base_dir+ 'objs/'\n",
    "\n",
    "dec_prcnt = 95\n",
    "dec_path = base_dir + f'ply_dec_{dec_prcnt}/'\n",
    "dec_path\n",
    "os.makedirs(dec_path, exist_ok=True)\n",
    "N = -1#100\n"
   ]
  },
  {
   "cell_type": "code",
   "execution_count": 6,
   "metadata": {},
   "outputs": [
    {
     "data": {
      "text/plain": [
       "'864691131559524855.obj'"
      ]
     },
     "execution_count": 6,
     "metadata": {},
     "output_type": "execute_result"
    }
   ],
   "source": [
    "obj_files = glob.glob(f'{obj_path}*.obj')\n",
    "obj_files[0:10]\n",
    "os.path.basename(obj_files[0])"
   ]
  },
  {
   "cell_type": "code",
   "execution_count": 4,
   "metadata": {},
   "outputs": [
    {
     "name": "stdout",
     "output_type": "stream",
     "text": [
      "113177 99\n"
     ]
    }
   ],
   "source": [
    "\n",
    "files = os.listdir(obj_path)\n",
    "\n",
    "# Get files with their sizes\n",
    "files_with_size = [(file, os.path.getsize(os.path.join(obj_path, file))) for file in files]\n",
    "\n",
    "# Sort files by size in descending order\n",
    "files_sorted_by_size = sorted(files_with_size, key=lambda x: x[1], reverse=True)\n",
    "\n",
    "# If you just need file names in sorted order\n",
    "sorted_files = [file for file, size in files_sorted_by_size]\n",
    "# print(sorted_files)\n",
    "\n",
    "existing_files = glob.glob(f'{dec_path}*.ply')\n",
    "\n",
    "# print(len(obj_files),len(existing_files))\n",
    "print(len(sorted_files),len(existing_files))\n",
    "\n",
    "\n"
   ]
  },
  {
   "cell_type": "code",
   "execution_count": 48,
   "metadata": {},
   "outputs": [],
   "source": [
    "obj_files = sorted_files\n"
   ]
  },
  {
   "cell_type": "markdown",
   "metadata": {},
   "source": [
    "# Decimation mesh processing and worker functions"
   ]
  },
  {
   "cell_type": "code",
   "execution_count": 7,
   "metadata": {},
   "outputs": [],
   "source": [
    "\n",
    "def process_obj(filename,dec_prcnt):\n",
    "    # Create the full path to the .obj file\n",
    "    file_path = os.path.join(obj_path, filename)\n",
    "    \n",
    "    # Load the .obj file\n",
    "    mesh = pv.read(file_path)\n",
    "    \n",
    "    # Perform decimation\n",
    "    simplified_mesh = mesh.decimate(target_reduction=dec_prcnt/100)  # Reduce to x% of the original mesh\n",
    "    \n",
    "    # Save the simplified mesh in PLY format\n",
    "    output_filename = filename.replace('.obj', '.ply')\n",
    "    output_path = os.path.join(dec_path, output_filename)\n",
    "    simplified_mesh.save(output_path)\n"
   ]
  },
  {
   "cell_type": "code",
   "execution_count": 15,
   "metadata": {},
   "outputs": [
    {
     "name": "stderr",
     "output_type": "stream",
     "text": []
    },
    {
     "name": "stdout",
     "output_type": "stream",
     "text": [
      "Skipping Z://Open_data_sets/MICrONS/cubic_mm/objs\\864691135012428022.obj \n"
     ]
    },
    {
     "name": "stderr",
     "output_type": "stream",
     "text": [
      "ERROR:root:Line longer than 262144: \n",
      "c:\\Users\\tyler\\Anaconda3\\envs\\blender341\\lib\\site-packages\\pyvista\\utilities\\fileio.py:198: UserWarning: The VTK reader `vtkOBJReader` in pyvista reader `OBJReader('Z:\\Open_data_sets\\MICrONS\\cubic_mm\\objs\\864691136534887842.obj')` raised an errorwhile reading the file.\n",
      "\t\"Line longer than 262144: \"\n",
      "  warnings.warn(\n"
     ]
    },
    {
     "name": "stdout",
     "output_type": "stream",
     "text": [
      "Skipping Z://Open_data_sets/MICrONS/cubic_mm/objs\\864691136534887842.obj \n"
     ]
    },
    {
     "name": "stderr",
     "output_type": "stream",
     "text": [
      "100%|██████████| 113177/113177 [18:23:23<00:00,  1.71it/s]\n"
     ]
    }
   ],
   "source": [
    "# Serial processing (working) correctly working progress bar\n",
    "for file in tqdm(obj_files):\n",
    "    try:\n",
    "        filename = os.path.basename(file)\n",
    "        process_obj(filename, dec_prcnt=dec_prcnt)\n",
    "    except:\n",
    "        print(f'Skipping {file} ')"
   ]
  },
  {
   "cell_type": "code",
   "execution_count": 8,
   "metadata": {},
   "outputs": [
    {
     "name": "stdout",
     "output_type": "stream",
     "text": [
      "113078\n"
     ]
    }
   ],
   "source": [
    "# Get the base filenames without extensions\n",
    "obj_base_names = set(os.path.splitext(os.path.basename(file))[0] for file in obj_files)\n",
    "existing_base_names = set(os.path.splitext(os.path.basename(file))[0] for file in existing_files)\n",
    "\n",
    "# Find the difference between the sets to get the files that need processing\n",
    "files_to_process = obj_base_names - existing_base_names\n",
    "\n",
    "# Convert back to the full file paths\n",
    "obj_files_remaining = [os.path.join(obj_path, file + '.obj') for file in files_to_process]\n",
    "\n",
    "n_samples = len(obj_files_remaining) #139387   \n",
    "\n",
    "print(n_samples)\n"
   ]
  },
  {
   "cell_type": "code",
   "execution_count": 10,
   "metadata": {},
   "outputs": [
    {
     "data": {
      "text/plain": [
       "113078"
      ]
     },
     "execution_count": 10,
     "metadata": {},
     "output_type": "execute_result"
    }
   ],
   "source": [
    "len(obj_files_remaining)"
   ]
  },
  {
   "cell_type": "markdown",
   "metadata": {},
   "source": [
    "# Bulk processing"
   ]
  },
  {
   "cell_type": "code",
   "execution_count": 11,
   "metadata": {},
   "outputs": [],
   "source": [
    "\n",
    "def worker(file, pbar):\n",
    "    filename = os.path.basename(file)\n",
    "    process_obj(filename)\n",
    "    pbar.update(1)  # Update the progress bar\n"
   ]
  },
  {
   "cell_type": "code",
   "execution_count": null,
   "metadata": {},
   "outputs": [],
   "source": [
    "# Process remaining serially:\n",
    "\n",
    "# Serial processing with a correctly working progress bar\n",
    "for file in tqdm(obj_files_remaining):\n",
    "\n",
    "    filename = os.path.basename(file)\n",
    "\n",
    "    # print(filename)\n",
    "\n",
    "    process_obj(filename)  # Assuming process_obj is defined elsewhere"
   ]
  },
  {
   "cell_type": "code",
   "execution_count": 14,
   "metadata": {},
   "outputs": [
    {
     "name": "stderr",
     "output_type": "stream",
     "text": [
      "  0%|          | 0/113078 [00:08<?, ?it/s]\n"
     ]
    }
   ],
   "source": [
    "# Process remaining multithreaded\n",
    "with ThreadPoolExecutor() as executor, tqdm(total=len(obj_files_remaining)) as pbar:\n",
    "    # Use map to dispatch the processing tasks\n",
    "    executor.map(lambda file: worker(file, pbar), obj_files_remaining)\n",
    "\n"
   ]
  },
  {
   "cell_type": "code",
   "execution_count": null,
   "metadata": {},
   "outputs": [],
   "source": []
  }
 ],
 "metadata": {
  "kernelspec": {
   "display_name": "blender341",
   "language": "python",
   "name": "python3"
  },
  "language_info": {
   "codemirror_mode": {
    "name": "ipython",
    "version": 3
   },
   "file_extension": ".py",
   "mimetype": "text/x-python",
   "name": "python",
   "nbconvert_exporter": "python",
   "pygments_lexer": "ipython3",
   "version": "3.10.8"
  }
 },
 "nbformat": 4,
 "nbformat_minor": 2
}
